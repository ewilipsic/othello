{
 "cells": [
  {
   "cell_type": "code",
   "execution_count": 5,
   "metadata": {},
   "outputs": [],
   "source": [
    "\n",
    "import import_ipynb\n",
    "import player as P\n",
    "\n",
    "# Constants\n",
    "WIDTH, HEIGHT = 600, 600\n",
    "GRID_SIZE = 8\n",
    "CELL_SIZE = WIDTH // GRID_SIZE\n",
    "BLACK = (0, 0, 0)\n",
    "WHITE = (255, 255, 255)\n",
    "GREEN = (0, 128, 0)\n",
    "\n",
    "\n",
    "# Initialize the game board\n",
    "board = [[0 for _ in range(GRID_SIZE)] for _ in range(GRID_SIZE)]\n",
    "board[3][4] = board[4][3] = 2  # White\n",
    "board[3][3] = board[4][4] = 1  # Black\n",
    "\n",
    "# Current player (1 for White, 2 for Black)\n",
    "\n",
    "\n"
   ]
  },
  {
   "cell_type": "code",
   "execution_count": 6,
   "metadata": {},
   "outputs": [
    {
     "name": "stdout",
     "output_type": "stream",
     "text": [
      "TIME  1.003237009048462   386\n",
      "TIME  1.0039317607879639   281\n",
      "TIME  1.0081379413604736   399\n",
      "TIME  1.000929355621338   323\n",
      "TIME  1.0132687091827393   379\n",
      "TIME  1.0050222873687744   461\n",
      "TIME  1.0003952980041504   424\n",
      "TIME  1.0087239742279053   367\n",
      "TIME  1.0029840469360352   369\n",
      "TIME  1.0013508796691895   448\n",
      "TIME  1.000868320465088   507\n",
      "TIME  1.0002896785736084   510\n",
      "TIME  1.0021486282348633   480\n",
      "TIME  1.0015156269073486   470\n",
      "TIME  1.005608081817627   548\n",
      "TIME  1.0033133029937744   466\n",
      "TIME  1.0009841918945312   499\n",
      "TIME  1.0050158500671387   531\n",
      "TIME  1.0015153884887695   634\n",
      "TIME  1.003525972366333   642\n",
      "TIME  1.0003352165222168   628\n",
      "TIME  1.0107524394989014   742\n",
      "TIME  1.010451316833496   876\n",
      "TIME  1.0069026947021484   870\n",
      "TIME  1.0044848918914795   907\n",
      "TIME  1.000145435333252   1445\n",
      "TIME  1.0027475357055664   3508\n",
      "TIME  1.0010707378387451   8479\n",
      "TIME  1.005941390991211   11801\n",
      "TIME  1.0061910152435303   18804\n",
      "0\n",
      "wins  0\n"
     ]
    }
   ],
   "source": [
    "roll_player = P.RLMCTSPlayer(rollouts=100,selectionDepth=4)\n",
    "time_player = P.RLMCTSPlayer(timed = True,selectionDepth=4,timeLimit = 1)\n",
    "\n",
    "games = 0\n",
    "wins = 0\n",
    "max_games = 1\n",
    "\n",
    "current_player = 2\n",
    "while games < max_games:\n",
    "    \n",
    "    # start_time = time.time()\n",
    "       \n",
    "    flag = 0\n",
    "    for x in range(GRID_SIZE):\n",
    "        for y in range(GRID_SIZE):\n",
    "            if P.is_valid_move(x,y,board,current_player): flag=1\n",
    "\n",
    "    if current_player == 1 and flag:\n",
    "        x,y = time_player.get_move(board,current_player) \n",
    "        if P.is_valid_move(x, y,board,current_player):\n",
    "            P.make_move(x,y,board,current_player)\n",
    "        current_player = 2\n",
    "       \n",
    "    elif current_player == 2 and flag:\n",
    "        grid_x,grid_y = roll_player.get_move(board,current_player)\n",
    "        if P.is_valid_move(grid_x, grid_y,board,current_player):\n",
    "            P.make_move(grid_x, grid_y,board,current_player)\n",
    "            current_player = 1\n",
    "\n",
    "\n",
    "    if not flag:\n",
    "        print(games)\n",
    "        wins += P.decide_winner(board,current_player)\n",
    "        board = [[0 for _ in range(GRID_SIZE)] for _ in range(GRID_SIZE)]\n",
    "        board[3][4] = board[4][3] = 2  # White\n",
    "        board[3][3] = board[4][4] = 1  # Black\n",
    "        games += 1\n",
    "        current_player = 2\n",
    "\n",
    "\n",
    "print(\"wins \",wins)"
   ]
  },
  {
   "cell_type": "code",
   "execution_count": null,
   "metadata": {},
   "outputs": [],
   "source": []
  }
 ],
 "metadata": {
  "kernelspec": {
   "display_name": "torch",
   "language": "python",
   "name": "python3"
  },
  "language_info": {
   "codemirror_mode": {
    "name": "ipython",
    "version": 3
   },
   "file_extension": ".py",
   "mimetype": "text/x-python",
   "name": "python",
   "nbconvert_exporter": "python",
   "pygments_lexer": "ipython3",
   "version": "3.11.5"
  }
 },
 "nbformat": 4,
 "nbformat_minor": 2
}

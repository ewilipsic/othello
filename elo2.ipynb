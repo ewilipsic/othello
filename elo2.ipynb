{
 "cells": [
  {
   "cell_type": "code",
   "execution_count": 11,
   "metadata": {},
   "outputs": [],
   "source": [
    "import import_ipynb\n",
    "import player as P\n",
    "import pygame\n",
    "import sys\n",
    "import time\n"
   ]
  },
  {
   "cell_type": "code",
   "execution_count": 12,
   "metadata": {},
   "outputs": [],
   "source": [
    "def playoff(bot_white,bot_black):\n",
    "    WIDTH, HEIGHT = 600, 600\n",
    "    GRID_SIZE = 8\n",
    "    CELL_SIZE = WIDTH // GRID_SIZE\n",
    "    BLACK = (0, 0, 0)\n",
    "    WHITE = (255, 255, 255)\n",
    "    GREEN = (0, 128, 0)\n",
    "    # Initialize the game board\n",
    "    board = [[0 for _ in range(GRID_SIZE)] for _ in range(GRID_SIZE)]\n",
    "    board[3][4] = board[4][3] = 2  # White\n",
    "    board[3][3] = board[4][4] = 1  # Black\n",
    "    # Current player (1 for White, 2 for Black)\n",
    "   \n",
    "\n",
    "    flag = 1\n",
    "    current_player = 2\n",
    "    while flag:\n",
    "        \n",
    "        flag = 0\n",
    "        for x in range(GRID_SIZE):\n",
    "            for y in range(GRID_SIZE):\n",
    "                if P.is_valid_move(x,y,board,current_player): flag=1\n",
    "\n",
    "        if current_player == 1 and flag:\n",
    "            x,y = bot_white.get_move(board,current_player)    \n",
    "            if P.is_valid_move(x, y,board,current_player):\n",
    "                P.make_move(x,y,board,current_player)\n",
    "            current_player = 2\n",
    "        \n",
    "        elif current_player == 2 and flag:\n",
    "            \n",
    "            grid_x,grid_y = bot_black.get_move(board,current_player)\n",
    "            if P.is_valid_move(grid_x, grid_y,board,current_player):\n",
    "                P.make_move(grid_x, grid_y,board,current_player)\n",
    "                current_player = 1\n",
    "\n",
    "\n",
    "        if not flag:\n",
    "            wins = P.decide_winner(board,current_player)\n",
    "    return wins\n"
   ]
  },
  {
   "cell_type": "code",
   "execution_count": null,
   "metadata": {},
   "outputs": [],
   "source": [
    "def match(idxWhite,idxBlack):\n",
    "    global elo\n",
    "    global players\n",
    "    E_w = 1/(1 + 10**((elo[idxBlack] - elo[idxWhite])/400))\n",
    "    E_b = 1/(1 + 10**((elo[idxWhite] - elo[idxBlack])/400))\n",
    "\n",
    "    blackWin = playoff(bot_white = players[idxWhite],bot_black = players[idxBlack])\n",
    "\n",
    "    if(blackWin):\n",
    "        elo[idxBlack] = elo[idxBlack] + 32*(1 - E_w)\n",
    "        elo[idxWhite] = elo[idxWhite] + 32*(0 - E_b)\n",
    "    else:\n",
    "        elo[idxBlack] = elo[idxBlack] + 32*(0 - E_w)\n",
    "        elo[idxWhite] = elo[idxWhite] + 32*(1 - E_b)"
   ]
  },
  {
   "cell_type": "code",
   "execution_count": 14,
   "metadata": {},
   "outputs": [],
   "source": [
    "import matplotlib.pyplot as plt"
   ]
  },
  {
   "cell_type": "code",
   "execution_count": 15,
   "metadata": {},
   "outputs": [],
   "source": [
    "mcts3 = P.MCTSPlayer(explorationFactor=1.4,timed = True,timeLimit = 1.5,selectionDepth=3)\n",
    "pmcts3 = P.MCTSParallelPlayer(explorationFactor=1.4,timed = True,timeLimit = 1.5,selectionDepth=3)\n",
    "\n",
    "import torch\n",
    "RLMCTS19 = P.RLMCTSPlayer(timed = True,timeLimit = 1.5)\n",
    "RLMCTS19.policy_value_network.load_state_dict(torch.load('RLMCTS_5SEC_1.4/checkpoint19.pth', map_location=torch.device(\"cpu\"),weights_only=True))\n",
    "alpha = P.AlphaBetaPlayer(depth = 3)\n",
    "rando = P.RandomPlayer()\n",
    "\n",
    "players = [mcts3,pmcts3,RLMCTS19,alpha,rando]\n",
    "elo = [1200 for x in players]\n"
   ]
  },
  {
   "cell_type": "code",
   "execution_count": 16,
   "metadata": {},
   "outputs": [
    {
     "name": "stdout",
     "output_type": "stream",
     "text": [
      "5\n",
      "....................[1276.0501140851281, 1358.8870536949967, 1193.3729281803257, 1120.0856667747885, 1051.604237264761]\n",
      "....................[1459.0927336496852, 1493.731344652415, 1185.4003779584343, 1010.2697166122638, 851.5058271272019]\n",
      "....................[1642.109174723131, 1675.083245920613, 1175.7569292121425, 883.5066118530953, 623.5440382910182]\n",
      "....................[1797.8481297818857, 1897.402881475953, 1168.6365154180885, 719.4575846680332, 416.6548886560397]\n",
      "....................[1985.037241040479, 2060.419953886834, 1197.970984392132, 552.3244346578958, 204.2473860226597]\n",
      "....................[2140.2012150497508, 2288.4789994576963, 1197.0348652274185, 416.94367717948955, -42.65875691435467]\n",
      "....................[2321.1705522141738, 2491.223265905486, 1196.5618889519385, 284.6113396478193, -293.5670467194174]\n"
     ]
    }
   ],
   "source": [
    "n = len(elo)\n",
    "print(n)\n",
    "for x in range(7):\n",
    "    for i in range(n):\n",
    "        for j in range(n):\n",
    "            if i == j : continue\n",
    "            match(i,j)\n",
    "            print(\".\",end=\"\")\n",
    "    print(elo)"
   ]
  },
  {
   "cell_type": "code",
   "execution_count": 18,
   "metadata": {},
   "outputs": [
    {
     "data": {
      "text/plain": [
       "<BarContainer object of 5 artists>"
      ]
     },
     "execution_count": 18,
     "metadata": {},
     "output_type": "execute_result"
    },
    {
     "data": {
      "image/png": "[encoded data removed]",
      "text/plain": [
       "<Figure size 640x480 with 1 Axes>"
      ]
     },
     "metadata": {},
     "output_type": "display_data"
    }
   ],
   "source": [
    "import matplotlib.pyplot as plt\n",
    "elo = [1459.0927336496852, 1493.731344652415, 1185.4003779584343, 1010.2697166122638, 851.5058271272019]\n",
    "plt.barh([\n",
    "     \"mcts\",\n",
    "     \"pmcts\",\n",
    "     \"RL mcts\",\n",
    "     \"Alpha-Beta\",\n",
    "     \"Random\"\n",
    "     ],elo)"
   ]
  }
 ],
 "metadata": {
  "kernelspec": {
   "display_name": "torch",
   "language": "python",
   "name": "python3"
  },
  "language_info": {
   "codemirror_mode": {
    "name": "ipython",
    "version": 3
   },
   "file_extension": ".py",
   "mimetype": "text/x-python",
   "name": "python",
   "nbconvert_exporter": "python",
   "pygments_lexer": "ipython3",
   "version": "3.11.5"
  }
 },
 "nbformat": 4,
 "nbformat_minor": 2
}

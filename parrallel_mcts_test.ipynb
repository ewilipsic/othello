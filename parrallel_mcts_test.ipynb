{
 "cells": [
  {
   "cell_type": "code",
   "execution_count": null,
   "metadata": {},
   "outputs": [],
   "source": [
    "\n",
    "import import_ipynb\n",
    "import player as P\n",
    "\n",
    "print(\"kkkk\")\n",
    "# Constants\n",
    "WIDTH, HEIGHT = 600, 600\n",
    "GRID_SIZE = 8\n",
    "CELL_SIZE = WIDTH // GRID_SIZE\n",
    "BLACK = (0, 0, 0)\n",
    "WHITE = (255, 255, 255)\n",
    "GREEN = (0, 128, 0)\n",
    "\n",
    "\n",
    "# Initialize the game board\n",
    "board = [[0 for _ in range(GRID_SIZE)] for _ in range(GRID_SIZE)]\n",
    "board[3][4] = board[4][3] = 2  # White\n",
    "board[3][3] = board[4][4] = 1  # Black\n",
    "\n",
    "# Current player (1 for White, 2 for Black)\n",
    "\n",
    "\n"
   ]
  },
  {
   "cell_type": "code",
   "execution_count": null,
   "metadata": {},
   "outputs": [],
   "source": [
    "parrallel_player = P.MCTSParallelPlayer(num_threads = 4,rollouts=2400)\n",
    "\n",
    "games = 0\n",
    "wins = 0\n",
    "max_games = 1\n",
    "\n",
    "current_player = 2\n",
    "while games < max_games:\n",
    "    \n",
    "    # start_time = time.time()\n",
    "       \n",
    "    flag = 0\n",
    "    for x in range(GRID_SIZE):\n",
    "        for y in range(GRID_SIZE):\n",
    "            if P.is_valid_move(x,y,board,current_player): flag=1\n",
    "\n",
    "    if current_player == 1 and flag:\n",
    "        x,y = P.get_move_random(board,current_player)    \n",
    "        if P.is_valid_move(x, y,board,current_player):\n",
    "            P.make_move(x,y,board,current_player)\n",
    "        current_player = 2\n",
    "       \n",
    "    elif current_player == 2 and flag:\n",
    "        \n",
    "        grid_x,grid_y = parrallel_player.get_move(board,current_player)\n",
    "        if P.is_valid_move(grid_x, grid_y,board,current_player):\n",
    "            P.make_move(grid_x, grid_y,board,current_player)\n",
    "           \n",
    "            current_player = 1\n",
    "\n",
    "\n",
    "    if not flag:\n",
    "        print(games)\n",
    "        wins += P.decide_winner(board,current_player)\n",
    "        board = [[0 for _ in range(GRID_SIZE)] for _ in range(GRID_SIZE)]\n",
    "        board[3][4] = board[4][3] = 2  # White\n",
    "        board[3][3] = board[4][4] = 1  # Black\n",
    "        games += 1\n",
    "        current_player = 2\n",
    "\n",
    "\n",
    "print(\"wins \",wins)"
   ]
  }
 ],
 "metadata": {
  "kernelspec": {
   "display_name": "torch",
   "language": "python",
   "name": "python3"
  },
  "language_info": {
   "codemirror_mode": {
    "name": "ipython",
    "version": 3
   },
   "file_extension": ".py",
   "mimetype": "text/x-python",
   "name": "python",
   "nbconvert_exporter": "python",
   "pygments_lexer": "ipython3",
   "version": "3.11.5"
  }
 },
 "nbformat": 4,
 "nbformat_minor": 2
}

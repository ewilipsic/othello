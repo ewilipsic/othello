{
 "cells": [
  {
   "cell_type": "code",
   "execution_count": null,
   "metadata": {},
   "outputs": [],
   "source": [
    "import import_ipynb\n",
    "import player as P\n",
    "import pygame\n",
    "import sys\n",
    "import time"
   ]
  },
  {
   "cell_type": "markdown",
   "metadata": {},
   "source": [
    "## PLAY AGAINST"
   ]
  },
  {
   "cell_type": "code",
   "execution_count": null,
   "metadata": {},
   "outputs": [],
   "source": [
    "def playoff(bot_white,bot_black):\n",
    "    WIDTH, HEIGHT = 600, 600\n",
    "    GRID_SIZE = 8\n",
    "    CELL_SIZE = WIDTH // GRID_SIZE\n",
    "    BLACK = (0, 0, 0)\n",
    "    WHITE = (255, 255, 255)\n",
    "    GREEN = (0, 128, 0)\n",
    "    # Initialize the game board\n",
    "    board = [[0 for _ in range(GRID_SIZE)] for _ in range(GRID_SIZE)]\n",
    "    board[3][4] = board[4][3] = 2  # White\n",
    "    board[3][3] = board[4][4] = 1  # Black\n",
    "    # Current player (1 for White, 2 for Black)\n",
    "    # Initialize Pygame\n",
    "    # # Create the game window\n",
    "\n",
    "    # pygame.init()\n",
    "    # pygame.font.init() \n",
    "    # my_font = pygame.font.SysFont('Comic Sans MS', 10)\n",
    "\n",
    "    # screen = pygame.display.set_mode((WIDTH, HEIGHT))\n",
    "    # pygame.display.set_caption(\"8x8 Othello\")\n",
    "\n",
    "    # def draw_board():\n",
    "    #     screen.fill(GREEN)\n",
    "    #     for x in range(GRID_SIZE):\n",
    "    #         for y in range(GRID_SIZE):\n",
    "    #             pygame.draw.rect(screen, BLACK, (x*CELL_SIZE, y*CELL_SIZE, CELL_SIZE, CELL_SIZE), 1)\n",
    "    #             if board[y][x] == 1:\n",
    "    #                 pygame.draw.circle(screen, WHITE, (x*CELL_SIZE + CELL_SIZE//2, y*CELL_SIZE + CELL_SIZE//2), CELL_SIZE//2 - 5)\n",
    "    #             elif board[y][x] == 2:\n",
    "    #                 pygame.draw.circle(screen, BLACK, (x*CELL_SIZE + CELL_SIZE//2, y*CELL_SIZE + CELL_SIZE//2), CELL_SIZE//2 - 5)\n",
    "\n",
    "    flag = 1\n",
    "    current_player = 2\n",
    "    while flag:\n",
    "        \n",
    "        flag = 0\n",
    "        for x in range(GRID_SIZE):\n",
    "            for y in range(GRID_SIZE):\n",
    "                if P.is_valid_move(x,y,board,current_player): flag=1\n",
    "\n",
    "        if current_player == 1 and flag:\n",
    "            x,y = bot_white.get_move(board,current_player)    \n",
    "            if P.is_valid_move(x, y,board,current_player):\n",
    "                P.make_move(x,y,board,current_player)\n",
    "            current_player = 2\n",
    "        \n",
    "        elif current_player == 2 and flag:\n",
    "            \n",
    "            grid_x,grid_y = bot_black.get_move(board,current_player)\n",
    "            if P.is_valid_move(grid_x, grid_y,board,current_player):\n",
    "                P.make_move(grid_x, grid_y,board,current_player)\n",
    "                current_player = 1\n",
    "\n",
    "        # Quit = False\n",
    "        # for event in pygame.event.get():\n",
    "        #     if event.type == pygame.QUIT:\n",
    "        #         Quit = True    \n",
    "        # if(Quit): break\n",
    "\n",
    "        if not flag:\n",
    "            wins = P.decide_winner(board,current_player)\n",
    "     \n",
    "    #     draw_board()\n",
    "    #     pygame.display.flip()\n",
    "    # pygame.quit()\n",
    "    return wins\n",
    "\n"
   ]
  },
  {
   "cell_type": "code",
   "execution_count": null,
   "metadata": {},
   "outputs": [],
   "source": [
    "mcts = P.MCTSPlayer(explorationFactor=1,rollouts=300,selectionDepth=2)\n",
    "alpha = P.AlphaBetaPlayer(depth = 3)\n",
    "rando = P.RandomPlayer()"
   ]
  },
  {
   "cell_type": "code",
   "execution_count": null,
   "metadata": {},
   "outputs": [],
   "source": [
    "players = [mcts,alpha,rando]\n",
    "elo = [1200,1200,1200]\n",
    "\n",
    "def match(idxWhite,idxBlack):\n",
    "    E_w = 1/(1 + 10**((elo[idxBlack] - elo[idxWhite])/400))\n",
    "    E_b = 1/(1 + 10**((elo[idxWhite] - elo[idxBlack])/400))\n",
    "\n",
    "    blackWin = playoff(bot_white = players[idxWhite],bot_black = players[idxBlack])\n",
    "\n",
    "    if(blackWin):\n",
    "        elo[idxBlack] = elo[idxBlack] + 32*(1 - E_w)\n",
    "        elo[idxWhite] = elo[idxWhite] + 32*(0 - E_b)\n",
    "    else:\n",
    "        elo[idxBlack] = elo[idxBlack] + 32*(0 - E_w)\n",
    "        elo[idxWhite] = elo[idxWhite] + 32*(1 - E_b)"
   ]
  },
  {
   "cell_type": "code",
   "execution_count": null,
   "metadata": {},
   "outputs": [],
   "source": [
    "for x in range(100):\n",
    "    for i in range(3):\n",
    "        match(i%3,(i+1)%3)\n",
    "        print(\".\",end=\"\")\n",
    "    for i in range(3):\n",
    "        match((i+1)%3,(i)%3)\n",
    "        print(\".\",end=\"\")\n",
    "    print(elo)"
   ]
  }
 ],
 "metadata": {
  "kernelspec": {
   "display_name": "torch",
   "language": "python",
   "name": "python3"
  },
  "language_info": {
   "codemirror_mode": {
    "name": "ipython",
    "version": 3
   },
   "file_extension": ".py",
   "mimetype": "text/x-python",
   "name": "python",
   "nbconvert_exporter": "python",
   "pygments_lexer": "ipython3",
   "version": "3.11.5"
  }
 },
 "nbformat": 4,
 "nbformat_minor": 2
}

{
 "cells": [
  {
   "cell_type": "code",
   "execution_count": 1,
   "metadata": {},
   "outputs": [
    {
     "name": "stdout",
     "output_type": "stream",
     "text": [
      "pygame 2.6.1 (SDL 2.28.4, Python 3.11.5)\n",
      "Hello from the pygame community. https://www.pygame.org/contribute.html\n"
     ]
    }
   ],
   "source": [
    "import import_ipynb\n",
    "import player as P\n",
    "import pygame\n",
    "import sys\n",
    "import time"
   ]
  },
  {
   "cell_type": "markdown",
   "metadata": {},
   "source": [
    "## PLAY AGAINST"
   ]
  },
  {
   "cell_type": "code",
   "execution_count": 2,
   "metadata": {},
   "outputs": [],
   "source": [
    "def playoff(bot_white,bot_black):\n",
    "    WIDTH, HEIGHT = 600, 600\n",
    "    GRID_SIZE = 8\n",
    "    CELL_SIZE = WIDTH // GRID_SIZE\n",
    "    BLACK = (0, 0, 0)\n",
    "    WHITE = (255, 255, 255)\n",
    "    GREEN = (0, 128, 0)\n",
    "    # Initialize the game board\n",
    "    board = [[0 for _ in range(GRID_SIZE)] for _ in range(GRID_SIZE)]\n",
    "    board[3][4] = board[4][3] = 2  # White\n",
    "    board[3][3] = board[4][4] = 1  # Black\n",
    "    # Current player (1 for White, 2 for Black)\n",
    "    # Initialize Pygame\n",
    "    # # Create the game window\n",
    "\n",
    "    # pygame.init()\n",
    "    # pygame.font.init() \n",
    "    # my_font = pygame.font.SysFont('Comic Sans MS', 10)\n",
    "\n",
    "    # screen = pygame.display.set_mode((WIDTH, HEIGHT))\n",
    "    # pygame.display.set_caption(\"8x8 Othello\")\n",
    "\n",
    "    # def draw_board():\n",
    "    #     screen.fill(GREEN)\n",
    "    #     for x in range(GRID_SIZE):\n",
    "    #         for y in range(GRID_SIZE):\n",
    "    #             pygame.draw.rect(screen, BLACK, (x*CELL_SIZE, y*CELL_SIZE, CELL_SIZE, CELL_SIZE), 1)\n",
    "    #             if board[y][x] == 1:\n",
    "    #                 pygame.draw.circle(screen, WHITE, (x*CELL_SIZE + CELL_SIZE//2, y*CELL_SIZE + CELL_SIZE//2), CELL_SIZE//2 - 5)\n",
    "    #             elif board[y][x] == 2:\n",
    "    #                 pygame.draw.circle(screen, BLACK, (x*CELL_SIZE + CELL_SIZE//2, y*CELL_SIZE + CELL_SIZE//2), CELL_SIZE//2 - 5)\n",
    "\n",
    "    flag = 1\n",
    "    current_player = 2\n",
    "    while flag:\n",
    "        \n",
    "        flag = 0\n",
    "        for x in range(GRID_SIZE):\n",
    "            for y in range(GRID_SIZE):\n",
    "                if P.is_valid_move(x,y,board,current_player): flag=1\n",
    "\n",
    "        if current_player == 1 and flag:\n",
    "            x,y = bot_white.get_move(board,current_player)    \n",
    "            if P.is_valid_move(x, y,board,current_player):\n",
    "                P.make_move(x,y,board,current_player)\n",
    "            current_player = 2\n",
    "        \n",
    "        elif current_player == 2 and flag:\n",
    "            \n",
    "            grid_x,grid_y = bot_black.get_move(board,current_player)\n",
    "            if P.is_valid_move(grid_x, grid_y,board,current_player):\n",
    "                P.make_move(grid_x, grid_y,board,current_player)\n",
    "                current_player = 1\n",
    "\n",
    "        # Quit = False\n",
    "        # for event in pygame.event.get():\n",
    "        #     if event.type == pygame.QUIT:\n",
    "        #         Quit = True    \n",
    "        # if(Quit): break\n",
    "\n",
    "        if not flag:\n",
    "            wins = P.decide_winner(board,current_player)\n",
    "     \n",
    "    #     draw_board()\n",
    "    #     pygame.display.flip()\n",
    "    # pygame.quit()\n",
    "    return wins\n",
    "\n"
   ]
  },
  {
   "cell_type": "code",
   "execution_count": 3,
   "metadata": {},
   "outputs": [],
   "source": [
    "mcts1 = P.MCTSPlayer(explorationFactor=1,rollouts=300,selectionDepth=2)\n",
    "mcts15 = P.MCTSPlayer(explorationFactor=1.5,rollouts=300,selectionDepth=2)\n",
    "alpha2 = P.AlphaBetaPlayer(depth = 2)\n",
    "alpha3 = P.AlphaBetaPlayer(depth = 3)\n",
    "rando = P.RandomPlayer()"
   ]
  },
  {
   "cell_type": "code",
   "execution_count": 4,
   "metadata": {},
   "outputs": [],
   "source": [
    "players = [mcts1,mcts15,alpha2,alpha3,rando]\n",
    "elo = [1200 for x in players]\n",
    "\n",
    "def match(idxWhite,idxBlack):\n",
    "    E_w = 1/(1 + 10**((elo[idxBlack] - elo[idxWhite])/400))\n",
    "    E_b = 1/(1 + 10**((elo[idxWhite] - elo[idxBlack])/400))\n",
    "\n",
    "    blackWin = playoff(bot_white = players[idxWhite],bot_black = players[idxBlack])\n",
    "\n",
    "    if(blackWin):\n",
    "        elo[idxBlack] = elo[idxBlack] + 32*(1 - E_w)\n",
    "        elo[idxWhite] = elo[idxWhite] + 32*(0 - E_b)\n",
    "    else:\n",
    "        elo[idxBlack] = elo[idxBlack] + 32*(0 - E_w)\n",
    "        elo[idxWhite] = elo[idxWhite] + 32*(1 - E_b)"
   ]
  },
  {
   "cell_type": "code",
   "execution_count": 5,
   "metadata": {},
   "outputs": [
    {
     "name": "stdout",
     "output_type": "stream",
     "text": [
      "[1200, 1200, 1200, 1200, 1200]\n"
     ]
    }
   ],
   "source": [
    "print(elo)"
   ]
  },
  {
   "cell_type": "code",
   "execution_count": 6,
   "metadata": {},
   "outputs": [],
   "source": [
    "import matplotlib.pyplot as plt\n",
    "# players = [mcts1,mcts15,alpha2,alpha3,rando]\n",
    "# elo = [1200 for x in players]\n",
    "\n",
    "# n = len(elo)\n",
    "# print(n)\n",
    "# for x in range(5):\n",
    "#     for i in range(n):\n",
    "#         for j in range(n):\n",
    "#             if i == j : continue\n",
    "#             match(i,j)\n",
    "#             print(\".\",end=\"\")\n",
    "#     print(elo)\n",
    "\n",
    "# plt.barh([\n",
    "#      \"MCTS Exploration 1\",\n",
    "#      \"MCTS Exploration 1.5\",\n",
    "#      \"3 ply alpha-beta\",\n",
    "#      \"2 ply alpha-beta\",\n",
    "#      \"random bot\"\n",
    "#      ],elo)\n",
    "\n",
    "# plt.show()"
   ]
  },
  {
   "cell_type": "code",
   "execution_count": 7,
   "metadata": {},
   "outputs": [
    {
     "name": "stdout",
     "output_type": "stream",
     "text": [
      "5\n",
      "....................[1090.5993959198288, 1158.9645325964623, 1125.3419501272263, 1315.386570894453, 1309.70755046203]\n",
      "....................[966.3551575411298, 1112.6712336238795, 978.7529019747046, 1474.9470552018367, 1467.2736516584494]\n",
      "....................[753.2847299171192, 1090.895534908969, 848.5554426210233, 1628.527244456415, 1678.7370480964732]\n",
      "....................[554.1942657783545, 1044.6896964650646, 714.6352611402681, 1850.9616935026736, 1835.5190831136392]\n"
     ]
    },
    {
     "data": {
      "image/png": "[encoded data removed]",
      "text/plain": [
       "<Figure size 640x480 with 1 Axes>"
      ]
     },
     "metadata": {},
     "output_type": "display_data"
    }
   ],
   "source": [
    "import torch\n",
    "\n",
    "RLMCTS19 = P.RLMCTSPlayer(timed = True,timeLimit = 3.0)\n",
    "RLMCTS15 = P.RLMCTSPlayer(timed = True,timeLimit = 3.0)\n",
    "RLMCTS10 = P.RLMCTSPlayer(timed = True,timeLimit = 3.0)\n",
    "\n",
    "RLMCTS19.policy_value_network.load_state_dict(torch.load('RLMCTS_5SEC_1.4/checkpoint19.pth', map_location=torch.device(\"cpu\"),weights_only=True))\n",
    "RLMCTS15.policy_value_network.load_state_dict(torch.load('RLMCTS_5SEC_1.4/checkpoint15.pth', map_location=torch.device(\"cpu\"),weights_only=True))\n",
    "RLMCTS10.policy_value_network.load_state_dict(torch.load('RLMCTS_5SEC_1.4/checkpoint10.pth', map_location=torch.device(\"cpu\"),weights_only=True))\n",
    "\n",
    "mcts3 = P.MCTSPlayer(explorationFactor=1.5,timed = True,timeLimit = 3.0,selectionDepth=2)\n",
    "mcts5 = P.MCTSPlayer(explorationFactor=1.5,timed = True,timeLimit = 5.0,selectionDepth=2)\n",
    "\n",
    "players = [RLMCTS10,RLMCTS15,RLMCTS19,mcts3,mcts5]\n",
    "elo = [1200 for x in range(len(players))]\n",
    "\n",
    "n = len(elo)\n",
    "print(n)\n",
    "for x in range(4):\n",
    "    for i in range(n):\n",
    "        for j in range(n):\n",
    "            if i == j : continue\n",
    "            match(i,j)\n",
    "            print(\".\",end=\"\")\n",
    "    print(elo)\n",
    "\n",
    "plt.barh([\n",
    "     \"RL19\",\n",
    "     \"RL15\",\n",
    "     \"RL10\",\n",
    "     \"MCTS 3\",\n",
    "     \"MCTS 5\"\n",
    "     ],elo)\n",
    "\n",
    "plt.show()\n",
    "\n",
    "\n",
    "\n"
   ]
  },
  {
   "cell_type": "code",
   "execution_count": 8,
   "metadata": {},
   "outputs": [
    {
     "data": {
      "image/png": "[encoded data removed]",
      "text/plain": [
       "<Figure size 640x480 with 1 Axes>"
      ]
     },
     "metadata": {},
     "output_type": "display_data"
    }
   ],
   "source": [
    "plt.barh([\n",
    "     \"RL10\",\n",
    "     \"RL15\",\n",
    "     \"RL19\",\n",
    "     \"MCTS 3\",\n",
    "     \"MCTS 5\"\n",
    "     ],elo)\n",
    "\n",
    "plt.show()"
   ]
  }
 ],
 "metadata": {
  "kernelspec": {
   "display_name": "torch",
   "language": "python",
   "name": "python3"
  },
  "language_info": {
   "codemirror_mode": {
    "name": "ipython",
    "version": 3
   },
   "file_extension": ".py",
   "mimetype": "text/x-python",
   "name": "python",
   "nbconvert_exporter": "python",
   "pygments_lexer": "ipython3",
   "version": "3.11.5"
  }
 },
 "nbformat": 4,
 "nbformat_minor": 2
}

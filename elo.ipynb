{
 "cells": [
  {
   "cell_type": "code",
   "execution_count": 9,
   "metadata": {},
   "outputs": [],
   "source": [
    "import import_ipynb\n",
    "import player as P\n",
    "import pygame\n",
    "import sys\n",
    "import time"
   ]
  },
  {
   "cell_type": "markdown",
   "metadata": {},
   "source": [
    "## PLAY AGAINST"
   ]
  },
  {
   "cell_type": "code",
   "execution_count": 10,
   "metadata": {},
   "outputs": [],
   "source": [
    "def playoff(bot_white,bot_black):\n",
    "    WIDTH, HEIGHT = 600, 600\n",
    "    GRID_SIZE = 8\n",
    "    CELL_SIZE = WIDTH // GRID_SIZE\n",
    "    BLACK = (0, 0, 0)\n",
    "    WHITE = (255, 255, 255)\n",
    "    GREEN = (0, 128, 0)\n",
    "    # Initialize the game board\n",
    "    board = [[0 for _ in range(GRID_SIZE)] for _ in range(GRID_SIZE)]\n",
    "    board[3][4] = board[4][3] = 2  # White\n",
    "    board[3][3] = board[4][4] = 1  # Black\n",
    "    # Current player (1 for White, 2 for Black)\n",
    "    # Initialize Pygame\n",
    "    # # Create the game window\n",
    "\n",
    "    # pygame.init()\n",
    "    # pygame.font.init() \n",
    "    # my_font = pygame.font.SysFont('Comic Sans MS', 10)\n",
    "\n",
    "    # screen = pygame.display.set_mode((WIDTH, HEIGHT))\n",
    "    # pygame.display.set_caption(\"8x8 Othello\")\n",
    "\n",
    "    # def draw_board():\n",
    "    #     screen.fill(GREEN)\n",
    "    #     for x in range(GRID_SIZE):\n",
    "    #         for y in range(GRID_SIZE):\n",
    "    #             pygame.draw.rect(screen, BLACK, (x*CELL_SIZE, y*CELL_SIZE, CELL_SIZE, CELL_SIZE), 1)\n",
    "    #             if board[y][x] == 1:\n",
    "    #                 pygame.draw.circle(screen, WHITE, (x*CELL_SIZE + CELL_SIZE//2, y*CELL_SIZE + CELL_SIZE//2), CELL_SIZE//2 - 5)\n",
    "    #             elif board[y][x] == 2:\n",
    "    #                 pygame.draw.circle(screen, BLACK, (x*CELL_SIZE + CELL_SIZE//2, y*CELL_SIZE + CELL_SIZE//2), CELL_SIZE//2 - 5)\n",
    "\n",
    "    flag = 1\n",
    "    current_player = 2\n",
    "    while flag:\n",
    "        \n",
    "        flag = 0\n",
    "        for x in range(GRID_SIZE):\n",
    "            for y in range(GRID_SIZE):\n",
    "                if P.is_valid_move(x,y,board,current_player): flag=1\n",
    "\n",
    "        if current_player == 1 and flag:\n",
    "            x,y = bot_white.get_move(board,current_player)    \n",
    "            if P.is_valid_move(x, y,board,current_player):\n",
    "                P.make_move(x,y,board,current_player)\n",
    "            current_player = 2\n",
    "        \n",
    "        elif current_player == 2 and flag:\n",
    "            \n",
    "            grid_x,grid_y = bot_black.get_move(board,current_player)\n",
    "            if P.is_valid_move(grid_x, grid_y,board,current_player):\n",
    "                P.make_move(grid_x, grid_y,board,current_player)\n",
    "                current_player = 1\n",
    "\n",
    "        # Quit = False\n",
    "        # for event in pygame.event.get():\n",
    "        #     if event.type == pygame.QUIT:\n",
    "        #         Quit = True    \n",
    "        # if(Quit): break\n",
    "\n",
    "        if not flag:\n",
    "            wins = P.decide_winner(board,current_player)\n",
    "     \n",
    "    #     draw_board()\n",
    "    #     pygame.display.flip()\n",
    "    # pygame.quit()\n",
    "    return wins\n",
    "\n"
   ]
  },
  {
   "cell_type": "code",
   "execution_count": 11,
   "metadata": {},
   "outputs": [],
   "source": [
    "mcts1 = P.MCTSPlayer(explorationFactor=1,rollouts=300,selectionDepth=2)\n",
    "mcts15 = P.MCTSPlayer(explorationFactor=1.5,rollouts=300,selectionDepth=2)\n",
    "alpha2 = P.AlphaBetaPlayer(depth = 2)\n",
    "alpha3 = P.AlphaBetaPlayer(depth = 3)\n",
    "rando = P.RandomPlayer()"
   ]
  },
  {
   "cell_type": "code",
   "execution_count": 12,
   "metadata": {},
   "outputs": [],
   "source": [
    "players = [mcts1,mcts15,alpha2,alpha3,rando]\n",
    "elo = [1200 for x in players]\n",
    "\n",
    "def match(idxWhite,idxBlack):\n",
    "    E_w = 1/(1 + 10**((elo[idxBlack] - elo[idxWhite])/400))\n",
    "    E_b = 1/(1 + 10**((elo[idxWhite] - elo[idxBlack])/400))\n",
    "\n",
    "    blackWin = playoff(bot_white = players[idxWhite],bot_black = players[idxBlack])\n",
    "\n",
    "    if(blackWin):\n",
    "        elo[idxBlack] = elo[idxBlack] + 32*(1 - E_w)\n",
    "        elo[idxWhite] = elo[idxWhite] + 32*(0 - E_b)\n",
    "    else:\n",
    "        elo[idxBlack] = elo[idxBlack] + 32*(0 - E_w)\n",
    "        elo[idxWhite] = elo[idxWhite] + 32*(1 - E_b)"
   ]
  },
  {
   "cell_type": "code",
   "execution_count": 13,
   "metadata": {},
   "outputs": [
    {
     "name": "stdout",
     "output_type": "stream",
     "text": [
      "[1200, 1200, 1200, 1200, 1200]\n"
     ]
    }
   ],
   "source": [
    "print(elo)"
   ]
  },
  {
   "cell_type": "code",
   "execution_count": 14,
   "metadata": {},
   "outputs": [
    {
     "name": "stdout",
     "output_type": "stream",
     "text": [
      "5\n",
      "....................[1275.100923407872, 1310.0977702104642, 1163.668695930907, 1159.2787049445342, 1091.8539055062226]\n",
      "....................[1382.3559554085782, 1474.6604598449908, 1031.8700637918355, 1064.2602080136835, 1046.853312940912]\n",
      "....................[1551.0521973742068, 1665.303794854509, 934.173710471723, 987.2927033703194, 862.1775939292418]\n",
      "....................[1734.7502583474254, 1828.7527792837682, 800.8253376605638, 951.3853466234378, 684.2862780848047]\n",
      "....................[1923.0050815296308, 2023.4916158607437, 696.7786972628304, 894.7164906051429, 462.00811474165255]\n"
     ]
    },
    {
     "data": {
      "image/png": "[encoded data removed]",
      "text/plain": [
       "<Figure size 640x480 with 1 Axes>"
      ]
     },
     "metadata": {},
     "output_type": "display_data"
    }
   ],
   "source": [
    "import matplotlib.pyplot as plt\n",
    "players = [mcts1,mcts15,alpha2,alpha3,rando]\n",
    "elo = [1200 for x in players]\n",
    "\n",
    "n = len(elo)\n",
    "print(n)\n",
    "for x in range(5):\n",
    "    for i in range(n):\n",
    "        for j in range(n):\n",
    "            if i == j : continue\n",
    "            match(i,j)\n",
    "            print(\".\",end=\"\")\n",
    "    print(elo)\n",
    "\n",
    "plt.barh([\n",
    "     \"MCTS Exploration 1\",\n",
    "     \"MCTS Exploration 1.5\",\n",
    "     \"3 ply alpha-beta\",\n",
    "     \"2 ply alpha-beta\",\n",
    "     \"random bot\"\n",
    "     ],elo)\n",
    "\n",
    "plt.show()"
   ]
  }
 ],
 "metadata": {
  "kernelspec": {
   "display_name": "torch",
   "language": "python",
   "name": "python3"
  },
  "language_info": {
   "codemirror_mode": {
    "name": "ipython",
    "version": 3
   },
   "file_extension": ".py",
   "mimetype": "text/x-python",
   "name": "python",
   "nbconvert_exporter": "python",
   "pygments_lexer": "ipython3",
   "version": "3.11.5"
  }
 },
 "nbformat": 4,
 "nbformat_minor": 2
}
